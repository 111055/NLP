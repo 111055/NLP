{
  "nbformat": 4,
  "nbformat_minor": 0,
  "metadata": {
    "colab": {
      "name": "Challenge2_NLP.ipynb",
      "provenance": [],
      "toc_visible": true,
      "authorship_tag": "ABX9TyN/+3DiwvpYZMHstqvPrDt8",
      "include_colab_link": true
    },
    "kernelspec": {
      "name": "python3",
      "display_name": "Python 3"
    }
  },
  "cells": [
    {
      "cell_type": "markdown",
      "metadata": {
        "id": "view-in-github",
        "colab_type": "text"
      },
      "source": [
        "<a href=\"https://colab.research.google.com/github/111055/NLP/blob/master/Challenge2_NLP.ipynb\" target=\"_parent\"><img src=\"https://colab.research.google.com/assets/colab-badge.svg\" alt=\"Open In Colab\"/></a>"
      ]
    },
    {
      "cell_type": "code",
      "metadata": {
        "id": "3ihjErC7Bk0c",
        "colab_type": "code",
        "colab": {
          "base_uri": "https://localhost:8080/",
          "height": 340
        },
        "outputId": "94d304f0-8558-4f7f-cc73-3e7445e3d171"
      },
      "source": [
        "import numpy as np\n",
        "import pandas as pd\n",
        "from sklearn.feature_extraction.text import TfidfVectorizer\n",
        "from sklearn.feature_extraction import text\n",
        "my_stop_words = text.ENGLISH_STOP_WORDS\n",
        "df = pd.read_csv('ticket_Data.csv')\n",
        "df1 =  df['Description'].unique()\n",
        "#print (df1)\n",
        "vectorizer = TfidfVectorizer( analyzer='word', ngram_range=(2, 4), stop_words=my_stop_words)\n",
        "X_train_tfidf = vectorizer.fit_transform(df1)\n",
        "feature_array = np.array(vectorizer.get_feature_names())\n",
        "#print(feature_array)\n",
        "tfidf_sorting = np.argsort(X_train_tfidf.toarray()).flatten()[::-1]\n",
        "#print(tfidf_sorting)\n",
        "n = 50\n",
        "top_n = feature_array[tfidf_sorting][:n]\n",
        "print(top_n)"
      ],
      "execution_count": 9,
      "outputs": [
        {
          "output_type": "stream",
          "text": [
            "['clear queue run jopb' 'queue run jopb' 'queue run jopb successfully'\n",
            " 'run jopb successfully' 'manaully clear queue run' 'clear queue run'\n",
            " 'run jopb' 'jopb successfully' 'failed manaully clear queue' 'queue run'\n",
            " 'clear queue' 'got failed manaully' 'job got failed manaully'\n",
            " 'failed manaully' 'failed manaully clear' 'manaully clear queue'\n",
            " 'manaully clear' 'got failed manaully clear' 'queue file issue job'\n",
            " 'file issue job got' 'queue file issue' 'issue job got failed'\n",
            " 'issue job got' 'queue file' 'file issue job' 'file issue' 'issue job'\n",
            " 'job got failed' 'got failed' 'job got' 'yesterday batch cancelled day'\n",
            " 'file unavailability job ran' 'file unavailability job got'\n",
            " 'file unavailability job failed' 'file unavailability job completed'\n",
            " 'file unavailability job cancelled' 'file unavailability job restarted'\n",
            " 'file unavailability resolved' 'file unavailability job started'\n",
            " 'file unavailable' 'file unavailaibilty'\n",
            " 'file unavailablitiy intimated source' 'file unavailablitiy intimated'\n",
            " 'file unavailablitiy' 'file unavailable job completed'\n",
            " 'file unavailable job' 'file unavailability schedule cancelled'\n",
            " 'file unavailability job successful' 'file unavailability schedule'\n",
            " 'file unavailability resolved file']\n"
          ],
          "name": "stdout"
        }
      ]
    },
    {
      "cell_type": "code",
      "metadata": {
        "id": "oKSTHkPRCbV-",
        "colab_type": "code",
        "colab": {}
      },
      "source": [
        ""
      ],
      "execution_count": null,
      "outputs": []
    }
  ]
}