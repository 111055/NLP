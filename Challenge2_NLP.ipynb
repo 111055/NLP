{
  "nbformat": 4,
  "nbformat_minor": 0,
  "metadata": {
    "colab": {
      "name": "Challenge2_NLP.ipynb",
      "provenance": [],
      "toc_visible": true,
      "authorship_tag": "ABX9TyNKl3JVRJDu3qKyEY9m4WsE",
      "include_colab_link": true
    },
    "kernelspec": {
      "name": "python3",
      "display_name": "Python 3"
    }
  },
  "cells": [
    {
      "cell_type": "markdown",
      "metadata": {
        "id": "view-in-github",
        "colab_type": "text"
      },
      "source": [
        "<a href=\"https://colab.research.google.com/github/111055/NLP/blob/master/Challenge2_NLP.ipynb\" target=\"_parent\"><img src=\"https://colab.research.google.com/assets/colab-badge.svg\" alt=\"Open In Colab\"/></a>"
      ]
    },
    {
      "cell_type": "code",
      "metadata": {
        "id": "3ihjErC7Bk0c",
        "colab_type": "code",
        "colab": {
          "base_uri": "https://localhost:8080/",
          "height": 425
        },
        "outputId": "83a4a316-1bc6-4487-e9c9-2d4186c3f385"
      },
      "source": [
        "import numpy as np\n",
        "import pandas as pd\n",
        "from sklearn.feature_extraction.text import TfidfVectorizer\n",
        "from sklearn.feature_extraction import text\n",
        "my_stop_words = text.ENGLISH_STOP_WORDS\n",
        "df = pd.read_csv('ticket_Data.csv')\n",
        "df1 =  df['Description']\n",
        "#print (df1)\n",
        "vectorizer = TfidfVectorizer( analyzer='word', ngram_range=(2, 4), stop_words=my_stop_words)\n",
        "X_train_tfidf = vectorizer.fit_transform(df1)\n",
        "#print(vectorizer.vocabulary_)\n",
        "#print(X_train_tfidf)\n",
        "feature_array = np.array(vectorizer.get_feature_names())\n",
        "#print(feature_array)\n",
        "tfidf_sorting = np.argsort(X_train_tfidf.toarray()).flatten()[::-1]\n",
        "#print(tfidf_sorting)\n",
        "n = 50\n",
        "top_n = feature_array[tfidf_sorting][:n]\n",
        "print(top_n)"
      ],
      "execution_count": 1,
      "outputs": [
        {
          "output_type": "stream",
          "text": [
            "['success rerun' 'yesterday batch cancelled day'\n",
            " 'file unavailability job got' 'file unavailability liaising'\n",
            " 'file unavailability later ran' 'file unavailability later'\n",
            " 'file unavailability job successful' 'file unavailability job started'\n",
            " 'file unavailability job restarted' 'file unavailability job ran'\n",
            " 'file unavailability job failed' 'file unavailability resolved'\n",
            " 'file unavailability job completed' 'file unavailability job cancelled'\n",
            " 'file unavailability job' 'file unavailability issue fixed'\n",
            " 'file unavailability issue fixe' 'file unavailability issue'\n",
            " 'file unavailability liaising source' 'file unavailability resolved file'\n",
            " 'file unavailbility job' 'file unavailaibilty liaising'\n",
            " 'file unavailbility issue fixed' 'file unavailbility issue'\n",
            " 'file unavailbility' 'file unavailaility received deadline'\n",
            " 'file unavailaility received' 'file unavailaility'\n",
            " 'file unavailaibilty liaising source' 'file unavailaibilty'\n",
            " 'file unavailability schedule' 'file unavailablitiy intimated source'\n",
            " 'file unavailablitiy intimated' 'file unavailablitiy'\n",
            " 'file unavailable job completed' 'file unavailable job'\n",
            " 'file unavailable' 'file unavailability schedule cancelled'\n",
            " 'file unavailability file available' 'file unavailability file'\n",
            " 'file unavailability' 'file rerun job' 'file rr11 issue job'\n",
            " 'file rr11 issue' 'file rr11' 'file restarted job got'\n",
            " 'file restarted job' 'file restarted' 'file rerun job completed'\n",
            " 'file rerun']\n"
          ],
          "name": "stdout"
        }
      ]
    },
    {
      "cell_type": "code",
      "metadata": {
        "id": "oKSTHkPRCbV-",
        "colab_type": "code",
        "colab": {}
      },
      "source": [
        ""
      ],
      "execution_count": null,
      "outputs": []
    }
  ]
}