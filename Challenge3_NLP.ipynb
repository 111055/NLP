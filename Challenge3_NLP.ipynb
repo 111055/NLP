{
  "nbformat": 4,
  "nbformat_minor": 0,
  "metadata": {
    "colab": {
      "name": "Challenge3_NLP.ipynb",
      "provenance": [],
      "collapsed_sections": [],
      "authorship_tag": "ABX9TyPP+YdZU9IBc5fMvopz7ZI6",
      "include_colab_link": true
    },
    "kernelspec": {
      "name": "python3",
      "display_name": "Python 3"
    }
  },
  "cells": [
    {
      "cell_type": "markdown",
      "metadata": {
        "id": "view-in-github",
        "colab_type": "text"
      },
      "source": [
        "<a href=\"https://colab.research.google.com/github/111055/NLP/blob/master/Challenge3_NLP.ipynb\" target=\"_parent\"><img src=\"https://colab.research.google.com/assets/colab-badge.svg\" alt=\"Open In Colab\"/></a>"
      ]
    },
    {
      "cell_type": "code",
      "metadata": {
        "id": "3ihjErC7Bk0c",
        "colab_type": "code",
        "colab": {
          "base_uri": "https://localhost:8080/",
          "height": 71
        },
        "outputId": "57ab07d5-4588-4f62-d928-a01d2453ddad"
      },
      "source": [
        "import pandas as pd\n",
        "from bs4 import BeautifulSoup\n",
        "import numpy as np\n",
        "import pandas as pd\n",
        "from sklearn.feature_extraction.text import TfidfVectorizer\n",
        "from sklearn.feature_extraction import text\n",
        "# Function to read dataframe\n",
        "def read_DataFrame(filename):\n",
        "  df = pd.read_csv(filename)\n",
        "  return df\n",
        "# Function to append new requierements to dataframe\n",
        "def df_append(newreq,Req_Exist):\n",
        "  new_req = pd.Series([newreq])\n",
        "  Req_Exist = Req_Exist.append(new_req, ignore_index=True)\n",
        "  return Req_Exist\n",
        "# Function to vectirize document and deteremine pattern similarity\n",
        "def doc_vectorizer(Req_Exist):\n",
        "  my_stop_words = text.ENGLISH_STOP_WORDS\n",
        "  vectorizer = TfidfVectorizer( analyzer='word', ngram_range=(2, 4), stop_words=my_stop_words)\n",
        "  X_Predict= vectorizer.fit_transform(Req_Exist)\n",
        "  pairwise_similarity = X_Predict * X_Predict.T\n",
        "  return pairwise_similarity\n",
        "def Requirement_PatternCheck(Req_Exist,pairwise_similarity):\n",
        "  i = 0\n",
        "  for row in Req_Exist:\n",
        "    #print(Req_Exist[i])\n",
        "    for j in range(0,10):\n",
        "      if i != j :\n",
        "        pattern_match = pairwise_similarity.getcol(i)[j].data\n",
        "        #print(pattern_match)\n",
        "        if (pattern_match > 0.5 and pattern_match < 1):\n",
        "          print(f'{row} has a match with existing requirement ******* {df.ReqID[j]} ******* with a match of {pattern_match}' )\n",
        "    i += 1\n",
        "\n",
        "df = read_DataFrame('Input_RFP - Requirements.csv')\n",
        "Req_Exist = df['Requirement']\n",
        "newreq = \"The System will establish unique date-specific plans for each program\"\n",
        "Req_Exist = df_append(newreq,Req_Exist)\n",
        "pairwise_similarity = doc_vectorizer(Req_Exist)\n",
        "Requirement_PatternCheck(Req_Exist,pairwise_similarity)\n"
      ],
      "execution_count": 136,
      "outputs": [
        {
          "output_type": "stream",
          "text": [
            "The System will establish unique date-specific plans for each program has a match with existing requirement ******* FR1.08 ******* with a match of [0.57231238]\n"
          ],
          "name": "stdout"
        },
        {
          "output_type": "stream",
          "text": [
            "/usr/local/lib/python3.6/dist-packages/ipykernel_launcher.py:31: DeprecationWarning: The truth value of an empty array is ambiguous. Returning False, but in future this will result in an error. Use `array.size > 0` to check that an array is not empty.\n"
          ],
          "name": "stderr"
        }
      ]
    },
    {
      "cell_type": "code",
      "metadata": {
        "id": "oKSTHkPRCbV-",
        "colab_type": "code",
        "colab": {}
      },
      "source": [
        ""
      ],
      "execution_count": null,
      "outputs": []
    }
  ]
}